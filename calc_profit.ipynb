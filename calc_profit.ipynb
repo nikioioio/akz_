{
 "cells": [
  {
   "cell_type": "code",
   "execution_count": 1,
   "id": "first-waterproof",
   "metadata": {},
   "outputs": [],
   "source": [
    "import pandas as pd\n",
    "import numpy as np\n",
    "import datetime\n",
    "from pyexcelerate import Workbook\n",
    "import warnings\n",
    "\n",
    "warnings.filterwarnings('ignore')\n",
    "pd.set_option('display.max_columns', None)\n",
    "pd.set_option('display.max_rows', None) "
   ]
  },
  {
   "cell_type": "code",
   "execution_count": 2,
   "id": "loaded-curve",
   "metadata": {},
   "outputs": [],
   "source": [
    "# типизируем cтолбцы таблица,\n",
    "# type_ к какому типу приводим, \n",
    "# mask по каком услову в столбце типизируем\n",
    "def retype_multiindex(df , type_, mask, levelForFindMask):\n",
    "    for col in df.columns:\n",
    "        if col[levelForFindMask].find(mask)!=-1:\n",
    "            df.loc[:,col] = df.loc[:,col].fillna(0).astype('int').astype(type_)\n",
    "    return df\n",
    "\n",
    "def retype_index(df, type_ , mask):\n",
    "    for col in df.columns:\n",
    "        try:\n",
    "            if col.find(mask)!=-1:\n",
    "                df.loc[:,col] = df.loc[:,col].fillna(0).astype(type_)\n",
    "        except AttributeError:\n",
    "            pass\n",
    "        except ValueError:\n",
    "            pass\n",
    "    return df\n",
    "    \n",
    "\n",
    "# Упаковка справочника для insert vpr\n",
    "def rev_to_dict(ind,find):\n",
    "#     ind = ind.astype('str')\n",
    "    df = pd.DataFrame(index=ind,data=find.values,columns=[find.name])\n",
    "    df = df[(df.index!=0)|(pd.isnull(df.index)==True)]\n",
    "    df = df.groupby(df.index).first()\n",
    "    dictt =  df.to_dict('index')\n",
    "    return dictt  \n",
    "\n",
    "\n",
    "# Аналог впр\n",
    "def insert_vpr(x,dictt,name):\n",
    "    try:\n",
    "        return dictt[x][name]\n",
    "    except KeyError:\n",
    "        return 0\n",
    "    \n",
    "# Собириает текущие данные\n",
    "def get_current_data(data, global_index, current_month):\n",
    "    index = [x for x in data.columns if x in global_index]\n",
    "    index.extend([current_month])\n",
    "    return data[index]\n",
    "\n",
    "\n",
    "def save_pyex(path,df):\n",
    "    wb = Workbook()\n",
    "    wb.new_sheet('sheet1',data =  [df.columns.tolist(),]+df.values.tolist())\n",
    "    wb.save(path) \n",
    "\n",
    "\n",
    "    \n",
    "def dict_keys(mapping):\n",
    "    cons = pd.DataFrame()\n",
    "    for ind, col in enumerate(mapping.columns):\n",
    "        try:\n",
    "            frame_ = mapping.loc[:, (col[0],['Артикул','Часть'])]\n",
    "            frame_.columns = ['Артикул','Часть']\n",
    "            cons = cons.append(frame_)\n",
    "        except KeyError:\n",
    "            pass\n",
    "        except ValueError:\n",
    "            pass\n",
    "        \n",
    "    return cons.drop_duplicates()\n",
    "\n",
    "\n",
    "# Установить тип продукции для 3 передела\n",
    "def get_type_product(data):\n",
    "    colName = 'Тип продукции'\n",
    "    data[colName] = ''\n",
    "    for art in data['Артикул'].unique():\n",
    "        min_index = min(list(data[data['Артикул']==art].index)  ) \n",
    "        max_index  = max(list(data[data['Артикул']==art].index)  ) \n",
    "#         data.loc[min_index,colName] = 'готовая продукция'\n",
    "        data.loc[max_index,colName] = 'основная продукция'\n",
    "    return data\n",
    "\n",
    "\n",
    "# Установка новых % в накладные расходы по упаковке\n",
    "def input_proc_packaging(df,arr_priznak, date, filter_, df2,  arr_priznak1 ,filter_2):\n",
    "    cols1 = ('downstream', 'Упак', arr_priznak1[0])\n",
    "    cols2 = ('downstream', 'Упак', arr_priznak1[1])\n",
    "    cols3 = ('downstream', 'Упак', arr_priznak1[2])\n",
    "    cols_all = ('downstream', 'Упак', 'всего')\n",
    "    \n",
    "    all_cost = df2.loc[df2['Месяц']['Месяц']['Месяц']==current_month, (cols_all)].sum()\n",
    "    \n",
    "    d1 = df[df[arr_priznak[0]] == \"да\"][current_month].sum() / \\\n",
    "    df2[df2['Наименование']['Наименование']['Наименование']==filter_].loc[:,cols1].sum()\n",
    "    \n",
    "    d2 = df[df[arr_priznak[1]] == \"да\"][current_month].sum() / \\\n",
    "    df2[df2['Наименование']['Наименование']['Наименование']==filter_].loc[:,cols2].sum()\n",
    "    \n",
    "    d3 = df[df[arr_priznak[2]] == \"да\"][current_month].sum() / \\\n",
    "    df2[df2['Наименование']['Наименование']['Наименование']==filter_].loc[:,cols3].sum()\n",
    "    \n",
    "    df2.loc[df2['Наименование']['Наименование']['Наименование']==filter_2,(cols1)] = d1/(d1+d2+d3)\n",
    "    df2.loc[df2['Наименование']['Наименование']['Наименование']==filter_2,(cols2)] = d2/(d1+d2+d3)\n",
    "    df2.loc[df2['Наименование']['Наименование']['Наименование']==filter_2,(cols3)] = d3/(d1+d2+d3)\n",
    "    \n",
    "    #     Подставляем значения всего умноженные на эти проценты\n",
    "    \n",
    "    df2.loc[df2['Месяц']['Месяц']['Месяц']==current_month,(cols1)] = d1/(d1+d2+d3) * all_cost\n",
    "    df2.loc[df2['Месяц']['Месяц']['Месяц']==current_month,(cols2)] = d2/(d1+d2+d3) * all_cost\n",
    "    df2.loc[df2['Месяц']['Месяц']['Месяц']==current_month,(cols3)] = d3/(d1+d2+d3) * all_cost\n",
    "    \n",
    "\n",
    "\n",
    "    return df2"
   ]
  },
  {
   "cell_type": "code",
   "execution_count": 3,
   "id": "female-action",
   "metadata": {},
   "outputs": [],
   "source": [
    "directory = 'C:\\\\Users\\\\Кедрун Никита\\\\PycharmProjects\\\\akz_\\\\'"
   ]
  },
  {
   "cell_type": "code",
   "execution_count": 4,
   "id": "continent-triple",
   "metadata": {},
   "outputs": [],
   "source": [
    "current_month  = datetime.datetime(2021,6,30)\n",
    "global_index = ['Артикул', 'Продукция', 'Номенклатура', 'Канал', 'Тип']"
   ]
  },
  {
   "cell_type": "code",
   "execution_count": null,
   "id": "fiscal-sailing",
   "metadata": {},
   "outputs": [],
   "source": [
    "# загрузка источников\n",
    "sale_finished_products_UKPF =  pd.read_excel(directory+'УКПФ Формы маржинальности Прогноз 2021.xlsx',sheet_name='Продажи ГП')\n",
    "balance_depot_stock_UKPF =  pd.read_excel(directory+'УКПФ Формы маржинальности Прогноз 2021.xlsx',sheet_name='Остатки')\n",
    "adm_UKPF =  pd.read_excel(directory+'УКПФ Формы маржинальности Прогноз 2021.xlsx',sheet_name='Адм')\n",
    "PP_UKPF =  pd.read_excel(directory+'УКПФ Формы маржинальности Прогноз 2021.xlsx',sheet_name='РР')\n",
    "per_3_UKPF =  pd.read_excel(directory+'УКПФ Формы маржинальности Прогноз 2021.xlsx',sheet_name='3 передел')\n",
    "per_2_UKPF_meat =  pd.read_excel(directory+'УКПФ Формы маржинальности Прогноз 2021.xlsx',sheet_name='2 передел мясо')\n",
    "per_2_UKPF_product =  pd.read_excel(directory+'УКПФ Формы маржинальности Прогноз 2021.xlsx',sheet_name='2 передел гп')\n",
    "per_2_UKPF_losses =  pd.read_excel(directory+'УКПФ Формы маржинальности Прогноз 2021.xlsx',sheet_name='2 передел потери')\n",
    "per_1_UKPF =  pd.read_excel(directory+'УКПФ Формы маржинальности Прогноз 2021.xlsx',sheet_name='1 передел')\n",
    "NZ_UKPF =  pd.read_excel(directory+'УКПФ Формы маржинальности Прогноз 2021.xlsx',sheet_name='Накладные затраты',header=[0,1,2])\n",
    "GP_UKPF =  pd.read_excel(directory+'УКПФ Формы маржинальности Прогноз 2021.xlsx',sheet_name='Выпуск ГП')\n",
    "UIS_UKPF =  pd.read_excel(directory+'УКПФ Формы маржинальности Прогноз 2021.xlsx',sheet_name='УиС')\n",
    "DATA_upload =  pd.read_excel(directory+'УКПФ Формы маржинальности Прогноз 2021.xlsx',sheet_name='Общие данные по выходу')\n",
    "Production_output =  pd.read_excel(directory+'УКПФ Формы маржинальности Прогноз 2021.xlsx',sheet_name='Выпуск ГП')"
   ]
  },
  {
   "cell_type": "code",
   "execution_count": null,
   "id": "active-ethernet",
   "metadata": {},
   "outputs": [],
   "source": [
    "# Сквозные источники\n",
    "\n",
    "mapping =  pd.read_excel(directory+'Mapping.xlsx',sheet_name='Mapping',header=[0,1] )\n",
    "koef_ef =  pd.read_excel(directory+'Коэффициент ценности.xlsx',sheet_name='Лист1')\n",
    "ost_start =  pd.read_excel(directory+'Остатки на начало года.xlsx',sheet_name='ОСТ УКПФ ДЕК',header=[0,1])"
   ]
  },
  {
   "cell_type": "code",
   "execution_count": null,
   "id": "regulation-symposium",
   "metadata": {},
   "outputs": [],
   "source": [
    "# Блок типизации данных\n",
    "dates = [x for x in PP_UKPF.columns if isinstance( x, datetime.datetime)]  \n",
    "\n",
    "# Изменил тип артикула\n",
    "mapping  = retype_multiindex(mapping, 'int', 'Артикул', 1)\n",
    "\n",
    "\n",
    "# Изменил тип артикула\n",
    "\n",
    "per_1_UKPF  = retype_index(per_1_UKPF, 'int', 'Артикул')\n",
    "per_2_UKPF_meat  = retype_index(per_2_UKPF_meat, 'int', 'Артикул')\n",
    "per_2_UKPF_product  = retype_index(per_2_UKPF_product, 'int', 'Артикул')\n",
    "per_2_UKPF_losses  = retype_index(per_2_UKPF_losses, 'int', 'Артикул')\n",
    "per_3_UKPF  = retype_index(per_3_UKPF, 'int', 'Артикул')\n",
    "Production_output  = retype_index(Production_output, 'int', 'Артикул')\n",
    "UIS_UKPF  = retype_index(UIS_UKPF, 'int', 'Артикул')\n",
    "ost_start  = retype_multiindex(ost_start, 'int', 'Артикул', 1)\n",
    "sale_finished_products_UKPF  = retype_index(sale_finished_products_UKPF, 'int', 'Артикул')\n",
    "\n",
    "\n",
    "# получил текущие даныные по current_month\n",
    "curr_per_1_UKPF = get_current_data(per_1_UKPF, global_index, current_month)\n",
    "curr_per_2_UKPF_meat = get_current_data(per_2_UKPF_meat, global_index, current_month)\n",
    "curr_per_2_UKPF_product = get_current_data(per_2_UKPF_product, global_index, current_month)\n",
    "curr_per_2_UKPF_losses = get_current_data(per_2_UKPF_losses, global_index, current_month)\n",
    "curr_per_3_UKPF = get_current_data(per_3_UKPF, global_index, current_month)\n",
    "curr_Production_output_UKPF = get_current_data(Production_output, global_index, current_month)\n",
    "UIS_UKPF = get_current_data(UIS_UKPF, global_index, current_month)\n",
    "sale_finished_products_UKPF = get_current_data(sale_finished_products_UKPF, global_index, current_month)\n",
    "\n",
    "# отсекли только то что в соответствующих переделах из справочников mapping\n"
   ]
  },
  {
   "cell_type": "code",
   "execution_count": null,
   "id": "collaborative-cheat",
   "metadata": {},
   "outputs": [],
   "source": [
    "# Блок получения данных по mapping (Отсекаем только то что есть в mapping)\n",
    "\n",
    "cons_1_per = curr_per_1_UKPF[curr_per_1_UKPF['Артикул'].isin(mapping[mapping['Мэппинг УКПФ 1 передел']['Артикул']!=0]['Мэппинг УКПФ 1 передел']['Артикул'])].groupby(['Артикул','Продукция']).sum().reset_index()\n",
    "cons_2_per_meat = curr_per_2_UKPF_meat[curr_per_2_UKPF_meat['Артикул'].isin(mapping[mapping['Мэппинг УКПФ 2 передел']['Артикул']!=0]['Мэппинг УКПФ 2 передел']['Артикул'])].groupby(['Артикул','Продукция']).sum().reset_index()\n",
    "cons_2_per_product = curr_per_2_UKPF_product[curr_per_2_UKPF_product['Артикул'].isin(mapping[mapping['Мэппинг УКПФ 2 передел']['Артикул']!=0]['Мэппинг УКПФ 2 передел']['Артикул'])].groupby(['Артикул','Продукция']).sum().reset_index()\n",
    "cons_2_per_losses = curr_per_2_UKPF_losses[~curr_per_2_UKPF_losses['Артикул'].apply(lambda x: isinstance(x, str))]\n"
   ]
  },
  {
   "cell_type": "code",
   "execution_count": null,
   "id": "driving-operator",
   "metadata": {},
   "outputs": [],
   "source": [
    "dict_chast = rev_to_dict(dict_keys(mapping)['Артикул'],dict_keys(mapping)['Часть'])\n",
    "\n",
    "# Присваем части\n",
    "cons_1_per['часть'] = cons_1_per.apply(lambda x: insert_vpr(x['Артикул'],dict_chast,'Часть') ,axis = 1).astype('str')\n",
    "# 2 передел для анализа\n",
    "cons_2_per_meat['часть'] = cons_2_per_meat.apply(lambda x: insert_vpr(x['Артикул'],dict_chast,'Часть') ,axis = 1).astype('str')\n",
    "cons_2_per_product['часть'] = cons_2_per_product.apply(lambda x: insert_vpr(x['Артикул'],dict_chast,'Часть') ,axis = 1).astype('str')\n",
    "cons_2_per_losses['часть'] = cons_2_per_losses.apply(lambda x: insert_vpr(x['Артикул'],dict_chast,'Часть') ,axis = 1).astype('str')\n",
    "# Выпуск ГП для анализа\n",
    "curr_Production_output_UKPF['часть'] = curr_Production_output_UKPF.apply(lambda x: insert_vpr(x['Артикул'],dict_chast,'Часть') ,axis = 1).astype('str')\n",
    "curr_per_3_UKPF['часть'] = curr_per_3_UKPF.apply(lambda x: insert_vpr(x['Артикул'],dict_chast,'Часть') ,axis = 1).astype('str')\n",
    "# 3 передел для анализа\n",
    "curr_per_3_UKPF = get_type_product(curr_per_3_UKPF)\n",
    "\n"
   ]
  },
  {
   "cell_type": "code",
   "execution_count": null,
   "id": "fourth-ancient",
   "metadata": {},
   "outputs": [],
   "source": [
    "# группировка по частям\n",
    "# Первый передел по частям УКПФ\n",
    "part_1_cons_1_per = cons_1_per[['часть',current_month]].groupby('часть').sum().reset_index()\n",
    "# объем живка\n",
    "V_zhivka = DATA_upload[DATA_upload['Наименование']=='Объем живка, кг'].loc[:,current_month].values[0] \n",
    "#объем первого передела\n",
    "V_1_peredel = cons_1_per[current_month].sum() \n",
    "# С/с 1 передела, без амортизации\n",
    "SS_1_zperedel_without_amort = DATA_upload[DATA_upload['Наименование']=='Сырье (живая птица) без амортизации'].loc[:,current_month].values[0]/1000 \n",
    "# Средняя с/с 1 передела, без амортизации\n",
    "Mean_SS_1_zperedel_without_amort  = SS_1_zperedel_without_amort/V_1_peredel * 1000"
   ]
  },
  {
   "cell_type": "code",
   "execution_count": null,
   "id": "combined-decision",
   "metadata": {},
   "outputs": [],
   "source": [
    "part_1_cons_1_per['%%от тушки'] = part_1_cons_1_per.apply(lambda x: x[current_month]/V_zhivka,axis = 1)\n",
    "\n",
    "\n",
    "dict_koef_ef = rev_to_dict(koef_ef[koef_ef['Признак']=='убой']['Продукция'],koef_ef[koef_ef['Признак']=='убой']['Коэффициент'])\n",
    "part_1_cons_1_per['Доля стоимости 1 передела'] = part_1_cons_1_per.apply(lambda x: insert_vpr(x['часть'],dict_koef_ef,'Коэффициент') ,axis = 1).astype('str')\n",
    "\n",
    "part_1_cons_1_per['усл.ед.'] = part_1_cons_1_per['Доля стоимости 1 передела'].astype('float64') * part_1_cons_1_per['%%от тушки']\n",
    "\n",
    "part_1_cons_1_per['Распределение с/с 1 передела'] = part_1_cons_1_per.apply(lambda x: SS_1_zperedel_without_amort * x['усл.ед.'] / part_1_cons_1_per['усл.ед.'].sum() ,axis = 1)\n",
    "\n",
    "\n",
    "part_1_cons_1_per['С/с 1 передела'] = part_1_cons_1_per.apply(lambda x: 0 if  x[current_month] ==0 else  x['Распределение с/с 1 передела'] / x[current_month] * 1000 ,axis = 1)\n",
    "\n",
    "\n",
    "# Конец первого передела"
   ]
  },
  {
   "cell_type": "code",
   "execution_count": null,
   "id": "abstract-norfolk",
   "metadata": {},
   "outputs": [],
   "source": [
    "# Начало второго передела\n",
    "part_1_cons_2_per_meat = cons_2_per_meat[['часть',current_month]].groupby('часть').sum().reset_index()\n",
    "\n",
    "part_1_cons_2_per_product = cons_2_per_product[['часть',current_month]].groupby('часть').sum().reset_index()\n",
    "\n",
    "#Объем на разделку без потерь\n",
    "V_raz_without_losses = part_1_cons_2_per_meat[current_month].sum() \n",
    "\n",
    "\n",
    "# С/с тушки, без амортизации\n",
    "\n",
    "SS_tushki_without_amort = part_1_cons_1_per[part_1_cons_1_per['часть']=='Тушка']['С/с 1 передела'].values[0]\n",
    "\n",
    "# С/с 2 передела, без амортизации\n",
    "Mean_SS_1_zperedel_without_amort = V_raz_without_losses * SS_tushki_without_amort / 1000\n",
    "\n",
    "part_1_cons_2_per_product['%%от тушки'] = part_1_cons_2_per_product.apply(lambda x: x[current_month]/V_raz_without_losses,axis = 1)\n",
    "\n",
    "\n",
    "\n",
    "dict_koef_ef = rev_to_dict(koef_ef[koef_ef['Признак']=='обвалка']['Продукция'],koef_ef[koef_ef['Признак']=='обвалка']['Коэффициент'])\n",
    "part_1_cons_2_per_product['Доля стоимости 2 передела'] = part_1_cons_2_per_product.apply(lambda x: insert_vpr(x['часть'],dict_koef_ef,'Коэффициент') ,axis = 1).astype('str')\n",
    "\n",
    "\n",
    "part_1_cons_2_per_product['усл.ед.'] = part_1_cons_2_per_product['Доля стоимости 2 передела'].astype('float64') * part_1_cons_2_per_product['%%от тушки']\n",
    "\n",
    "part_1_cons_2_per_product['Распределение с/с 2 передела'] = part_1_cons_2_per_product.apply(lambda x: Mean_SS_1_zperedel_without_amort * x['усл.ед.'] / part_1_cons_2_per_product['усл.ед.'].sum() ,axis = 1)\n",
    "\n",
    "part_1_cons_2_per_product['С/с 2 передела'] = part_1_cons_2_per_product.apply(lambda x: 0 if  x[current_month] ==0 else  x['Распределение с/с 2 передела'] / x[current_month] * 1000 ,axis = 1)\n"
   ]
  },
  {
   "cell_type": "code",
   "execution_count": null,
   "id": "superior-asthma",
   "metadata": {},
   "outputs": [],
   "source": [
    "# ПГ_CC МП\n",
    "\n",
    "def func(x, col, per1, per2_1, per2_2, per2_3, per3):\n",
    "    filter_ = 'Артикул'\n",
    "    sum_ = per1[per1[filter_] == x[filter_]][col].sum() + \\\n",
    "        per2_1[per2_1[filter_] == x[filter_]][col].sum() + \\\n",
    "        per2_2[per2_2[filter_] == x[filter_]][col].sum()+ \\\n",
    "        per2_3[per2_3[filter_] == x[filter_]][col].sum()+ \\\n",
    "        per3[(per3[filter_] == x[filter_])&(per3['Тип продукции'] == 'основная продукция')][col].sum()\n",
    "    return sum_ if sum_>0 else x[col]\n",
    "      \n",
    "\n",
    "curr_Production_output_UKPF['Объем мяса  (без воды и специй),кг'] = \\\n",
    "curr_Production_output_UKPF.apply(lambda x:func(x,current_month, cons_1_per, cons_2_per_meat, cons_2_per_product, \\\n",
    "cons_2_per_losses, curr_per_3_UKPF) ,axis = 1)\n",
    "\n",
    "# ------------------------------\n",
    "\n",
    "df_sebes_group = part_1_cons_2_per_product[['часть','С/с 2 передела']].rename(columns={'С/с 2 передела': 'Себес'}).\\\n",
    "append( part_1_cons_1_per[['часть','С/с 1 передела']].rename(columns={'С/с 1 передела': 'Себес'}) ).\\\n",
    "groupby('часть').sum().reset_index()\n",
    "\n",
    "dict_sebes = rev_to_dict(df_sebes_group['часть'],df_sebes_group['Себес'])\n",
    "curr_Production_output_UKPF['Мясосырье, Птицевосдтво, тг/кг'] = curr_Production_output_UKPF.apply(lambda x: insert_vpr(x['часть'],dict_sebes,'Себес') ,axis = 1)\n",
    "\n",
    "# ------------------------------\n",
    "\n",
    "curr_Production_output_UKPF['C/c мясосырья, Птицеводство тыс. тг'] = curr_Production_output_UKPF.apply(lambda x: x['Объем мяса  (без воды и специй),кг'] * \\\n",
    "                                 x['Мясосырье, Птицевосдтво, тг/кг'] / 1000 ,axis = 1)\n",
    "\n",
    "# ------------------------------\n",
    "\n",
    "curr_Production_output_UKPF['C/c мясосырья, Птицеводство тг/кг'] = curr_Production_output_UKPF.apply(lambda x: 0 if x[current_month]==0 else x['C/c мясосырья, Птицеводство тыс. тг'] / \\\n",
    "                                 x[current_month] * 1000 ,axis = 1)\n",
    "\n",
    "# ------------------------------\n",
    "\n",
    "def func(x, col, uis, mask):\n",
    "    filter_ = 'Артикул'\n",
    "    sum_ = uis[(uis[filter_] == x[filter_]) & (uis['Номенклатура'] == mask)][col].sum()\n",
    "    return sum_/1000\n",
    "      \n",
    "curr_Production_output_UKPF['Специи, добавки тыс. тг'] = \\\n",
    "curr_Production_output_UKPF.apply(lambda x:func(x,current_month, UIS_UKPF ,'Специи, добавки') ,axis = 1)\n",
    "\n",
    "# ------------------------------\n",
    "\n",
    "curr_Production_output_UKPF['Специи, добавки тг/кг'] = curr_Production_output_UKPF.apply(lambda x: 0 if x[current_month]==0 else x['Специи, добавки тыс. тг'] / \\\n",
    "                                 x[current_month] * 1000 ,axis = 1)\n",
    "\n",
    "# ------------------------------\n",
    "\n",
    "curr_Production_output_UKPF['Упаковочный материал тыс. тг'] = \\\n",
    "curr_Production_output_UKPF.apply(lambda x:func(x,current_month, UIS_UKPF, 'Упаковочный материал') ,axis = 1)\n",
    "\n",
    "\n",
    "# ------------------------------\n",
    "\n",
    "curr_Production_output_UKPF['Упаковочный материал тг/кг'] = curr_Production_output_UKPF.apply(lambda x: 0 if x[current_month]==0 else x['Упаковочный материал тыс. тг'] / \\\n",
    "                                 x[current_month] * 1000 ,axis = 1)\n",
    "\n",
    "# ------------------------------\n",
    "\n",
    "curr_Production_output_UKPF['Итого с/c с прямыми расходами тыс. тг'] = curr_Production_output_UKPF['C/c мясосырья, Птицеводство тыс. тг'] + \\\n",
    "curr_Production_output_UKPF['Специи, добавки тыс. тг'] + \\\n",
    "curr_Production_output_UKPF['Упаковочный материал тыс. тг']\n",
    "\n",
    "# ------------------------------\n",
    "\n",
    "curr_Production_output_UKPF['Итого с/c с прямыми расходами тг/кг'] = curr_Production_output_UKPF['C/c мясосырья, Птицеводство тг/кг'] + \\\n",
    "curr_Production_output_UKPF['Специи, добавки тг/кг'] + \\\n",
    "curr_Production_output_UKPF['Упаковочный материал тг/кг']\n",
    "\n",
    "# ------------------------------\n",
    "\n",
    "dict_slaughter_costs = rev_to_dict(mapping['Мэппинг УКПФ Затраты']['Артикул'],mapping['Мэппинг УКПФ Затраты']['Upstream'])\n",
    "curr_Production_output_UKPF['Затраты на убой и потрошение, признак'] = curr_Production_output_UKPF.apply(lambda x: insert_vpr(x['Артикул'],dict_slaughter_costs,'Upstream') ,axis = 1).astype('str')\n",
    "\n",
    "# ------------------------------\n",
    "\n",
    "def func(x, col, df, df1, filter_):\n",
    "    sum_ = df[df[filter_] == \"да\"][col].sum()\n",
    "    \n",
    "    if x[filter_] == 'да':\n",
    "        return (x[current_month]/sum_) * df1[df1['Месяц']['Месяц']['Месяц']==current_month]['upstream']['УиП']['всего'].sum()/1000\n",
    "    else:\n",
    "        return 0\n",
    "    return \n",
    "        \n",
    "      \n",
    "curr_Production_output_UKPF['Затраты на убой и потрошение тыс. тг'] = \\\n",
    "curr_Production_output_UKPF.apply(lambda x:func(x,current_month, curr_Production_output_UKPF, NZ_UKPF,'Затраты на убой и потрошение, признак') ,axis = 1)\n",
    "\n",
    "# ------------------------------\n",
    "\n",
    "curr_Production_output_UKPF['Затраты на убой и потрошение тг/кг'] = curr_Production_output_UKPF.apply(lambda x: 0 if x[current_month]==0 else x['Затраты на убой и потрошение тыс. тг'] / \\\n",
    "                                 x[current_month] * 1000 ,axis = 1)\n",
    "\n",
    "# ------------------------------\n",
    "\n",
    "dict_cutting_up= rev_to_dict(mapping['Мэппинг УКПФ Затраты']['Артикул'],mapping['Мэппинг УКПФ Затраты']['Разделка'])\n",
    "curr_Production_output_UKPF['Затраты на разделку, признак'] = curr_Production_output_UKPF.apply(lambda x: insert_vpr(x['Артикул'],dict_cutting_up,'Разделка') ,axis = 1).astype('str')\n",
    "\n",
    "# ------------------------------\n",
    "\n",
    "def func(x, col, df, df1, filter_):\n",
    "    sum_ = df[df[filter_] == \"да\"][col].sum()\n",
    "    \n",
    "    if x[filter_] == 'да':\n",
    "        return (x[current_month]/sum_) * df1[df1['Месяц']['Месяц']['Месяц']==current_month]['downstream']['ОиР']['остальное'].sum()/1000\n",
    "    elif x[filter_] == 'KFC':\n",
    "        return (x[current_month]/sum_) * df1[df1['Месяц']['Месяц']['Месяц']==current_month]['downstream']['ОиР']['KFC'].sum()/1000  \n",
    "    else:\n",
    "        return 0\n",
    "        \n",
    "      \n",
    "curr_Production_output_UKPF['Затраты на разделку тыс. тг'] = \\\n",
    "curr_Production_output_UKPF.apply(lambda x:func(x,\n",
    "                                                current_month,\n",
    "                                                curr_Production_output_UKPF,\n",
    "                                                NZ_UKPF,\n",
    "                                                'Затраты на убой и потрошение, признак'\n",
    "                                               ) ,axis = 1)\n",
    "\n",
    "# -------------------------------\n",
    "\n",
    "curr_Production_output_UKPF['Затраты на разделку тг/кг'] = curr_Production_output_UKPF.apply(lambda x: 0 if x[current_month]==0 else x['Затраты на разделку тыс. тг'] / \\\n",
    "                                 x[current_month] * 1000 ,axis = 1)\n",
    "\n",
    "# -------------------------------\n",
    "\n",
    "dict_cooling_down= rev_to_dict(mapping['Мэппинг УКПФ Затраты']['Артикул'],mapping['Мэппинг УКПФ Затраты']['Охлаждение'])\n",
    "curr_Production_output_UKPF['Затраты на охлаждение, признак'] = curr_Production_output_UKPF.apply(lambda x: insert_vpr(x['Артикул'],dict_cooling_down,'Охлаждение') ,axis = 1).astype('str')\n",
    "\n",
    "# -------------------------------\n",
    "\n",
    "def func(x, col, df, df1, filter_):\n",
    "    sum_ = df[df[filter_] == \"да\"][col].sum()\n",
    "    \n",
    "    if x[filter_] == 'да':\n",
    "        return (x[current_month]/sum_) * df1[df1['Месяц']['Месяц']['Месяц']==current_month]['downstream']['охлаждение']['охл'].sum()/1000\n",
    "    else:\n",
    "        return 0\n",
    "    return \n",
    "        \n",
    "      \n",
    "curr_Production_output_UKPF['Затраты на охлаждение тыс. тг'] = \\\n",
    "curr_Production_output_UKPF.apply(lambda x:func(x,\n",
    "                                                current_month,\n",
    "                                                curr_Production_output_UKPF,\n",
    "                                                NZ_UKPF,\n",
    "                                                'Затраты на охлаждение, признак'\n",
    "                                               ) ,axis = 1)\n",
    "\n",
    "# -------------------------------\n",
    "\n",
    "curr_Production_output_UKPF['Затраты на охлаждение тг/кг'] = curr_Production_output_UKPF.apply(lambda x: 0 if x[current_month]==0 else x['Затраты на охлаждение тыс. тг'] / \\\n",
    "                                 x[current_month] * 1000 ,axis = 1)\n",
    "\n",
    "# -------------------------------\n",
    "\n",
    "dict_freezing= rev_to_dict(mapping['Мэппинг УКПФ Затраты']['Артикул'],mapping['Мэппинг УКПФ Затраты']['Заморозка'])\n",
    "curr_Production_output_UKPF['Затраты на заморозку, признак'] = curr_Production_output_UKPF.apply(lambda x: insert_vpr(x['Артикул'],dict_freezing,'Заморозка') ,axis = 1).astype('str')\n",
    "\n",
    "# -------------------------------\n",
    "\n",
    "def func(x, col, df, df1, filter_):\n",
    "    sum_ = df[df[filter_] == \"да\"][col].sum()\n",
    "    \n",
    "    if x[filter_] == 'да':\n",
    "        return (x[current_month]/sum_) * df1[df1['Месяц']['Месяц']['Месяц']==current_month]['downstream']['охлаждение']['зам'].sum()/1000\n",
    "    else:\n",
    "        return 0\n",
    "    return \n",
    "        \n",
    "      \n",
    "curr_Production_output_UKPF['Затраты на заморозку тыс. тг'] = \\\n",
    "curr_Production_output_UKPF.apply(lambda x:func(x,\n",
    "                                                current_month,\n",
    "                                                curr_Production_output_UKPF,\n",
    "                                                NZ_UKPF,\n",
    "                                                'Затраты на заморозку, признак'\n",
    "                                               ) ,axis = 1)\n",
    "\n",
    "# --------------------------------\n",
    "\n",
    "curr_Production_output_UKPF['Затраты на заморозку тг/кг'] = curr_Production_output_UKPF.apply(lambda x: 0 if x[current_month]==0 else x['Затраты на заморозку тыс. тг'] / \\\n",
    "                                 x[current_month] * 1000 ,axis = 1)\n",
    "\n",
    "# --------------------------------\n",
    "\n",
    "dict_individual_pacts= rev_to_dict(mapping['Мэппинг УКПФ Затраты']['Артикул'],mapping['Мэппинг УКПФ Затраты']['индив. пакет'])\n",
    "curr_Production_output_UKPF['Затраты на Индив. пакет, признак'] = curr_Production_output_UKPF.apply(lambda x: insert_vpr(x['Артикул'],dict_individual_pacts,'индив. пакет') ,axis = 1).astype('str')\n",
    "\n",
    "# --------------------------------\n",
    "\n",
    "dict_background= rev_to_dict(mapping['Мэппинг УКПФ Затраты']['Артикул'],mapping['Мэппинг УКПФ Затраты']['подложка'])\n",
    "curr_Production_output_UKPF['Затраты на Подложку, признак'] = curr_Production_output_UKPF.apply(lambda x: insert_vpr(x['Артикул'],dict_background,'подложка') ,axis = 1).astype('str')\n",
    "\n",
    "# --------------------------------\n",
    "\n",
    "dict_group_package= rev_to_dict(mapping['Мэппинг УКПФ Затраты']['Артикул'],mapping['Мэппинг УКПФ Затраты']['групповой пакет'])\n",
    "curr_Production_output_UKPF['Затраты на Групп. Пакет, признак'] = curr_Production_output_UKPF.apply(lambda x: insert_vpr(x['Артикул'],dict_group_package,'групповой пакет') ,axis = 1).astype('str')\n",
    "\n",
    "# --------------------------------\n",
    "\n",
    "\n",
    "NZ_UKPF = input_proc_packaging(curr_Production_output_UKPF,\n",
    "                     ['Затраты на Индив. пакет, признак', \\\n",
    "                      'Затраты на Подложку, признак', \\\n",
    "                      'Затраты на Групп. Пакет, признак'],\n",
    "                     current_month,\n",
    "                     'Норма упаковки, кг/чел*час',\n",
    "                     NZ_UKPF,\n",
    "                     ['индив. пакет', 'подложка', 'групповой пакет'],\n",
    "                     'Участок фасовки и упаковки '\n",
    "                    )\n",
    "\n",
    "# --------------------------------\n",
    "\n",
    "def func(x, col, df, df1, filter_):\n",
    "    sum_ = df[df[filter_] == \"да\"][col].sum()\n",
    "    \n",
    "    if x[filter_] == 'да':\n",
    "        return (x[current_month]/sum_) * df1[df1['Месяц']['Месяц']['Месяц']==current_month]['downstream']['Упак']['индив. пакет'].sum()/1000\n",
    "    else:\n",
    "        return 0\n",
    "    return \n",
    "        \n",
    "      \n",
    "curr_Production_output_UKPF['Затраты на Индив. пакет тыс. тг'] = \\\n",
    "curr_Production_output_UKPF.apply(lambda x:func(x,\n",
    "                                                current_month,\n",
    "                                                curr_Production_output_UKPF,\n",
    "                                                NZ_UKPF,\n",
    "                                                'Затраты на Индив. пакет, признак'\n",
    "                                               ) ,axis = 1)\n",
    "\n",
    "# --------------------------------\n",
    "\n",
    "curr_Production_output_UKPF['Затраты на Индив. пакет тг/кг'] = curr_Production_output_UKPF.apply(lambda x: 0 if x[current_month]==0 else x['Затраты на Индив. пакет тыс. тг'] / \\\n",
    "                                 x[current_month] * 1000 ,axis = 1)\n",
    "\n",
    "\n",
    "# --------------------------------\n",
    "\n",
    "def func(x, col, df, df1, filter_):\n",
    "    sum_ = df[df[filter_] == \"да\"][col].sum()\n",
    "    \n",
    "    if x[filter_] == 'да':\n",
    "        return (x[current_month]/sum_) * df1[df1['Месяц']['Месяц']['Месяц']==current_month]['downstream']['Упак']['подложка'].sum()/1000\n",
    "    else:\n",
    "        return 0\n",
    "    return \n",
    "        \n",
    "      \n",
    "curr_Production_output_UKPF['Затраты на Подложку тыс. тг'] = \\\n",
    "curr_Production_output_UKPF.apply(lambda x:func(x,\n",
    "                                                current_month,\n",
    "                                                curr_Production_output_UKPF,\n",
    "                                                NZ_UKPF,\n",
    "                                                'Затраты на Подложку, признак'\n",
    "                                               ) ,axis = 1)\n",
    "\n",
    "# --------------------------------\n",
    "\n",
    "curr_Production_output_UKPF['Затраты на Подложку тг/кг'] = curr_Production_output_UKPF.apply(lambda x: 0 if x[current_month]==0 else x['Затраты на Подложку тыс. тг'] / \\\n",
    "                                 x[current_month] * 1000 ,axis = 1)\n",
    "\n",
    "\n",
    "# --------------------------------\n",
    "\n",
    "def func(x, col, df, df1, filter_):\n",
    "    sum_ = df[df[filter_] == \"да\"][col].sum()\n",
    "    \n",
    "    if x[filter_] == 'да':\n",
    "        return (x[current_month]/sum_) * df1[df1['Месяц']['Месяц']['Месяц']==current_month]['downstream']['Упак']['групповой пакет'].sum()/1000\n",
    "    else:\n",
    "        return 0\n",
    "    return \n",
    "        \n",
    "      \n",
    "curr_Production_output_UKPF['Затраты на Групп. Пакет тыс. тг'] = \\\n",
    "curr_Production_output_UKPF.apply(lambda x:func(x,\n",
    "                                                current_month,\n",
    "                                                curr_Production_output_UKPF,\n",
    "                                                NZ_UKPF,\n",
    "                                                'Затраты на Групп. Пакет, признак'\n",
    "                                               ) ,axis = 1)\n",
    "\n",
    "# --------------------------------\n",
    "\n",
    "curr_Production_output_UKPF['Затраты на Групп. Пакет тг/кг'] = curr_Production_output_UKPF.apply(lambda x: 0 if x[current_month]==0 else x['Затраты на Групп. Пакет тыс. тг'] / \\\n",
    "                                 x[current_month] * 1000 ,axis = 1)\n",
    "\n",
    "# --------------------------------\n",
    "\n",
    "dict_marinate= rev_to_dict(mapping['Мэппинг УКПФ Затраты']['Артикул'],mapping['Мэппинг УКПФ Затраты']['маринация'])\n",
    "curr_Production_output_UKPF['Затраты на Маринацию, признак'] = curr_Production_output_UKPF.apply(lambda x: insert_vpr(x['Артикул'],dict_marinate,'маринация') ,axis = 1).astype('str')\n",
    "\n",
    "# --------------------------------\n",
    "\n",
    "def func(x, col, df, df1, filter_):\n",
    "    sum_ = df[df[filter_] == \"да\"][col].sum()\n",
    "    \n",
    "    if x[filter_] == 'да':\n",
    "        return (x[current_month]/sum_) * df1[df1['Месяц']['Месяц']['Месяц']==current_month]['downstream']['Маринады']['остальное'].sum()/1000\n",
    "    elif x[filter_] == 'KFC':\n",
    "        return (x[current_month]/sum_) * df1[df1['Месяц']['Месяц']['Месяц']==current_month]['downstream']['Маринады']['KFC'].sum()/1000  \n",
    "    else:\n",
    "        return 0\n",
    "        \n",
    "      \n",
    "curr_Production_output_UKPF['Затраты на Маринацию тыс. тг'] = \\\n",
    "curr_Production_output_UKPF.apply(lambda x:func(x,\n",
    "                                                current_month,\n",
    "                                                curr_Production_output_UKPF,\n",
    "                                                NZ_UKPF,\n",
    "                                                'Затраты на Маринацию, признак'\n",
    "                                               ) ,axis = 1)\n",
    "\n",
    "# --------------------------------\n",
    "\n",
    "curr_Production_output_UKPF['Затраты на Маринацию тг/кг'] = curr_Production_output_UKPF.apply(lambda x: 0 if x[current_month]==0 else x['Затраты на Маринацию тыс. тг'] / \\\n",
    "                                 x[current_month] * 1000 ,axis = 1)\n",
    "\n",
    "# --------------------------------\n",
    "\n",
    "dict_pressing= rev_to_dict(mapping['Мэппинг УКПФ Затраты']['Артикул'],mapping['Мэппинг УКПФ Затраты']['Прессование'])\n",
    "curr_Production_output_UKPF['Затраты на Прессование признак'] = curr_Production_output_UKPF.apply(lambda x: insert_vpr(x['Артикул'],dict_pressing,'Прессование') ,axis = 1).astype('str')\n",
    "\n",
    "# --------------------------------\n",
    "\n",
    "def func(x, col, df, df1, filter_):\n",
    "    sum_ = df[df[filter_] == \"да\"][col].sum()\n",
    "    \n",
    "    if x[filter_] == 'да':\n",
    "        return (x[current_month]/sum_) * df1[df1['Месяц']['Месяц']['Месяц']==current_month]['downstream']['Упак']['групповой пакет'].sum()/1000\n",
    "    else:\n",
    "        return 0\n",
    "    return \n",
    "        \n",
    "      \n",
    "curr_Production_output_UKPF['Затраты на Прессование тыс. тг'] = 0\n",
    "curr_Production_output_UKPF.apply(lambda x:func(x,\n",
    "                                                current_month,\n",
    "                                                curr_Production_output_UKPF,\n",
    "                                                NZ_UKPF,\n",
    "                                                'Затраты на Групп. Пакет, признак'\n",
    "                                               ) ,axis = 1)\n",
    "\n",
    "\n",
    "# --------------------------------\n",
    "\n",
    "\n",
    "curr_Production_output_UKPF['Затраты на Прессование тг/кг'] = curr_Production_output_UKPF.apply(lambda x: 0 if x[current_month]==0 else x['Затраты на Прессование тыс. тг'] / \\\n",
    "                                 x[current_month] * 1000 ,axis = 1)\n",
    "\n",
    "\n",
    "# --------------------------------\n",
    "\n",
    "curr_Production_output_UKPF['Итого накладная с/с тыс. тг'] =curr_Production_output_UKPF['Затраты на убой и потрошение тыс. тг']+ \\\n",
    "                                                            curr_Production_output_UKPF['Затраты на охлаждение тыс. тг']+ \\\n",
    "                                                            curr_Production_output_UKPF['Затраты на заморозку тыс. тг']+ \\\n",
    "                                                            curr_Production_output_UKPF['Затраты на Индив. пакет тыс. тг']+ \\\n",
    "                                                            curr_Production_output_UKPF['Затраты на Групп. Пакет тыс. тг']+ \\\n",
    "                                                            curr_Production_output_UKPF['Затраты на Маринацию тыс. тг']+ \\\n",
    "                                                            curr_Production_output_UKPF['Затраты на Прессование тыс. тг']\n",
    "\n",
    "curr_Production_output_UKPF['Итого накладная с/с тг/кг'] =curr_Production_output_UKPF['Затраты на убой и потрошение тг/кг']+ \\\n",
    "                                                            curr_Production_output_UKPF['Затраты на охлаждение тг/кг']+ \\\n",
    "                                                            curr_Production_output_UKPF['Затраты на заморозку тг/кг']+ \\\n",
    "                                                            curr_Production_output_UKPF['Затраты на Индив. пакет тг/кг']+ \\\n",
    "                                                            curr_Production_output_UKPF['Затраты на Групп. Пакет тг/кг']+ \\\n",
    "                                                            curr_Production_output_UKPF['Затраты на Маринацию тг/кг']+ \\\n",
    "                                                            curr_Production_output_UKPF['Затраты на Прессование тг/кг']\n",
    "\n",
    "\n",
    "curr_Production_output_UKPF['Итого с/c тыс. тг'] = curr_Production_output_UKPF['Итого с/c с прямыми расходами тыс. тг'] + \\\n",
    "                                                    curr_Production_output_UKPF['Итого накладная с/с тыс. тг']\n",
    "\n",
    "\n",
    "curr_Production_output_UKPF['Итого с/c тг/кг'] = curr_Production_output_UKPF.apply(lambda x: 0 if x[current_month]==0 else x['Итого с/c тыс. тг'] / \\\n",
    "                                 x[current_month] * 1000 ,axis = 1)"
   ]
  },
  {
   "cell_type": "code",
   "execution_count": null,
   "id": "false-jones",
   "metadata": {},
   "outputs": [],
   "source": [
    "# таблица с остатками\n",
    "\n",
    "start_date = datetime.datetime(2021, 1, 1, 0, 0)\n",
    "\n",
    "cols_join = [x for x in curr_Production_output_UKPF.rename(columns={current_month: 'Объем кг'}).columns if x.find('тг/кг')!=-1]\n",
    "\n",
    "cols_join.extend(['Объем кг'])\n",
    "\n",
    "# ost_start = ost_start[start_date]\n",
    "\n",
    "# блок формирования левой части остатков\n",
    "naim = ('Продукция','Продукция')\n",
    "art = ('Артикул','Артикул')\n",
    "\n",
    "f_prt = ost_start[[naim,art]]\n",
    "f_prt.columns = ['Продукция','Артикул']\n",
    "# общий список из остатков , производства и продаж гп\n",
    "arr_ost = f_prt.append(curr_Production_output_UKPF[['Артикул','Продукция']]).append(sale_finished_products_UKPF[['Продукция','Артикул']]).drop_duplicates(subset=['Артикул'])\n",
    "\n",
    "arr_ost = arr_ost.set_index('Артикул')\n",
    "curr_Production_output_UKPF = curr_Production_output_UKPF.set_index('Артикул')\n",
    "\n",
    "arr_ost = arr_ost[~arr_ost.index.duplicated(keep='first')]\n",
    "\n",
    "\n",
    "# Берем начальные остатки\n",
    "ost_start.columns = [x[1] for x in ost_start.columns]\n",
    "ost_start = ost_start.set_index('Артикул')\n",
    "\n",
    "\n",
    "cons_ost_start = pd.concat([ost_start[cols_join],arr_ost] ,axis = 1)\n",
    "\n",
    "ml = pd.MultiIndex.from_tuples([ ('Остаток',start_date, x) for x in  cons_ost_start.columns])\n",
    "cons_ost_start.columns =ml\n",
    "\n"
   ]
  },
  {
   "cell_type": "code",
   "execution_count": null,
   "id": "studied-cause",
   "metadata": {},
   "outputs": [],
   "source": [
    "# тут формируем циклом приход расход остаток\n",
    "\n",
    "# приход для объединения с остатками\n",
    "production_for_join_ost = curr_Production_output_UKPF.rename(columns={current_month: 'Объем кг'})[cols_join]\n",
    "\n",
    "\n",
    "ml = pd.MultiIndex.from_tuples([ ('Приход',current_month, x) for x in  production_for_join_ost.columns])\n",
    "production_for_join_ost.columns =ml\n",
    "\n",
    "it = pd.concat([cons_ost_start,production_for_join_ost] ,axis = 1)"
   ]
  },
  {
   "cell_type": "code",
   "execution_count": null,
   "id": "brilliant-briefs",
   "metadata": {},
   "outputs": [],
   "source": [
    "sale_finished_products_UKPF"
   ]
  },
  {
   "cell_type": "code",
   "execution_count": null,
   "id": "exact-movement",
   "metadata": {},
   "outputs": [],
   "source": [
    "curr_Production_output_UKPF"
   ]
  },
  {
   "cell_type": "code",
   "execution_count": null,
   "id": "noticed-shock",
   "metadata": {},
   "outputs": [],
   "source": []
  },
  {
   "cell_type": "code",
   "execution_count": null,
   "id": "necessary-bruce",
   "metadata": {},
   "outputs": [],
   "source": [
    "ost_start"
   ]
  },
  {
   "cell_type": "code",
   "execution_count": null,
   "id": "czech-arrow",
   "metadata": {},
   "outputs": [],
   "source": [
    "curr_Production_output_UKPF[cols_join]"
   ]
  },
  {
   "cell_type": "code",
   "execution_count": null,
   "id": "sharing-table",
   "metadata": {},
   "outputs": [],
   "source": [
    "\n",
    "pd.concat([arr_ost,curr_Production_output_UKPF[cols_join]] ,axis = 1)"
   ]
  },
  {
   "cell_type": "code",
   "execution_count": null,
   "id": "bronze-conditions",
   "metadata": {},
   "outputs": [],
   "source": [
    "ost_start.columns = [x[1] for x in ost_start.columns]"
   ]
  },
  {
   "cell_type": "code",
   "execution_count": null,
   "id": "welcome-velvet",
   "metadata": {},
   "outputs": [],
   "source": [
    "ost_start.set_index('Артикул')"
   ]
  },
  {
   "cell_type": "code",
   "execution_count": null,
   "id": "serial-plain",
   "metadata": {},
   "outputs": [],
   "source": [
    "curr_Production_output_UKPF"
   ]
  },
  {
   "cell_type": "code",
   "execution_count": null,
   "id": "painted-bridges",
   "metadata": {},
   "outputs": [],
   "source": [
    "ost_start"
   ]
  },
  {
   "cell_type": "code",
   "execution_count": null,
   "id": "ready-concern",
   "metadata": {},
   "outputs": [],
   "source": [
    "cols_join"
   ]
  },
  {
   "cell_type": "code",
   "execution_count": null,
   "id": "comprehensive-thompson",
   "metadata": {},
   "outputs": [],
   "source": [
    "NZ_UKPF =  pd.read_excel(directory+'УКПФ Формы маржинальности Прогноз 2021.xlsx',sheet_name='Накладные затраты',header=[0,1,2])"
   ]
  },
  {
   "cell_type": "code",
   "execution_count": null,
   "id": "atomic-channel",
   "metadata": {},
   "outputs": [],
   "source": [
    "NZ_UKPF[NZ_UKPF['Месяц']['Месяц']['Месяц']==current_month]['downstream']['ОиР']['KFC']"
   ]
  },
  {
   "cell_type": "code",
   "execution_count": null,
   "id": "precise-nothing",
   "metadata": {},
   "outputs": [],
   "source": [
    "curr_Production_output_UKPF[curr_Production_output_UKPF['Затраты на Подложку, признак'] == \"да\"][current_month].sum()"
   ]
  },
  {
   "cell_type": "code",
   "execution_count": null,
   "id": "approximate-auditor",
   "metadata": {},
   "outputs": [],
   "source": [
    "curr_Production_output_UKPF[curr_Production_output_UKPF['Затраты на Групп. Пакет, признак'] == \"да\"][current_month].sum()"
   ]
  },
  {
   "cell_type": "code",
   "execution_count": null,
   "id": "compound-radius",
   "metadata": {},
   "outputs": [],
   "source": [
    "NZ_UKPF[NZ_UKPF['Наименование']['Наименование']['Наименование']=='Норма упаковки, кг/чел*час'] \\\n",
    "['downstream']['Упак']['групповой пакет'].sum()"
   ]
  },
  {
   "cell_type": "code",
   "execution_count": null,
   "id": "earlier-dynamics",
   "metadata": {},
   "outputs": [],
   "source": [
    "NZ_UKPF[NZ_UKPF['Наименование']['Наименование']['Наименование']=='Норма упаковки, кг/чел*час'] \\\n",
    "['downstream']['Упак']['подложка'].sum()"
   ]
  },
  {
   "cell_type": "code",
   "execution_count": null,
   "id": "dynamic-association",
   "metadata": {},
   "outputs": [],
   "source": [
    "NZ_UKPF[NZ_UKPF['Наименование']['Наименование']['Наименование']=='Норма упаковки, кг/чел*час'] \\\n",
    "['downstream']['Упак']['индив. пакет'].sum()"
   ]
  },
  {
   "cell_type": "code",
   "execution_count": null,
   "id": "sacred-meeting",
   "metadata": {},
   "outputs": [],
   "source": [
    "\n",
    "    \n",
    "    "
   ]
  },
  {
   "cell_type": "code",
   "execution_count": null,
   "id": "lasting-dealer",
   "metadata": {
    "scrolled": true
   },
   "outputs": [],
   "source": []
  },
  {
   "cell_type": "code",
   "execution_count": null,
   "id": "seasonal-perception",
   "metadata": {},
   "outputs": [],
   "source": [
    "NZ_UKPF.loc[NZ_UKPF['Месяц']['Месяц']['Месяц']==current_month ]['downstream']['Упак']['всего'].sum()"
   ]
  },
  {
   "cell_type": "code",
   "execution_count": null,
   "id": "dominican-amplifier",
   "metadata": {
    "scrolled": true
   },
   "outputs": [],
   "source": [
    "NZ_UKPF.loc[NZ_UKPF['Месяц']['Месяц']['Месяц']==current_month,(cols1)]"
   ]
  },
  {
   "cell_type": "code",
   "execution_count": null,
   "id": "cross-setup",
   "metadata": {},
   "outputs": [],
   "source": [
    "a.append(1)"
   ]
  },
  {
   "cell_type": "code",
   "execution_count": null,
   "id": "focal-advice",
   "metadata": {},
   "outputs": [],
   "source": [
    "a[-1] = 5"
   ]
  },
  {
   "cell_type": "code",
   "execution_count": null,
   "id": "twenty-brazil",
   "metadata": {},
   "outputs": [],
   "source": [
    "# Установка новых % в накладные расходы по упаковке\n",
    "def input_proc_packaging(df,arr_priznak, date, filter_, df2,  arr_priznak1 ,filter_2):\n",
    "    cols1 = ('downstream', 'Упак', arr_priznak1[0])\n",
    "    cols2 = ('downstream', 'Упак', arr_priznak1[1])\n",
    "    cols3 = ('downstream', 'Упак', arr_priznak1[2])\n",
    "    \n",
    "    d1 = df[df[arr_priznak[0]] == \"да\"][current_month].sum() / \\\n",
    "    df2[df2['Наименование']['Наименование']['Наименование']==filter_].loc[:,cols1].sum()\n",
    "    \n",
    "    d2 = df[df[arr_priznak[1]] == \"да\"][current_month].sum() / \\\n",
    "    df2[df2['Наименование']['Наименование']['Наименование']==filter_].loc[:,cols2].sum()\n",
    "    \n",
    "    d3 = df[df[arr_priznak[2]] == \"да\"][current_month].sum() / \\\n",
    "    df2[df2['Наименование']['Наименование']['Наименование']==filter_].loc[:,cols3].sum()\n",
    "    \n",
    "    df2.loc[df2['Наименование']['Наименование']['Наименование']==filter_2,(cols1)] = d1/(d1+d2+d3)\n",
    "    df2.loc[df2['Наименование']['Наименование']['Наименование']==filter_2,(cols2)] = d2/(d1+d2+d3)\n",
    "    df2.loc[df2['Наименование']['Наименование']['Наименование']==filter_2,(cols3)] = d3/(d1+d2+d3)\n",
    "    \n",
    "    return df2"
   ]
  },
  {
   "cell_type": "code",
   "execution_count": null,
   "id": "focal-grant",
   "metadata": {},
   "outputs": [],
   "source": [
    "NZ_UKPF[NZ_UKPF['Наименование']['Наименование']['Наименование']=='Участок фасовки и упаковки '].loc[:,('downstream', 'Упак', 'подложка')]"
   ]
  },
  {
   "cell_type": "code",
   "execution_count": null,
   "id": "cloudy-championship",
   "metadata": {
    "scrolled": true
   },
   "outputs": [],
   "source": [
    "NZ_UKPF = input_proc_packaging(curr_Production_output_UKPF,\n",
    "                     ['Затраты на Индив. пакет, признак', \\\n",
    "                      'Затраты на Подложку, признак', \\\n",
    "                      'Затраты на Групп. Пакет, признак'],\n",
    "                     current_month,\n",
    "                     'Норма упаковки, кг/чел*час',\n",
    "                     NZ_UKPF,\n",
    "                     ['индив. пакет', 'подложка', 'групповой пакет'],\n",
    "                     'Участок фасовки и упаковки '\n",
    "                    )"
   ]
  },
  {
   "cell_type": "code",
   "execution_count": null,
   "id": "active-hacker",
   "metadata": {},
   "outputs": [],
   "source": [
    "['Наименование']*3"
   ]
  },
  {
   "cell_type": "code",
   "execution_count": null,
   "id": "skilled-society",
   "metadata": {},
   "outputs": [],
   "source": [
    "NZ_UKPF.loc[NZ_UKPF['Наименование']['Наименование']['Наименование']=='Затраты на Индив. пакет, признак']"
   ]
  },
  {
   "cell_type": "code",
   "execution_count": null,
   "id": "assigned-arctic",
   "metadata": {},
   "outputs": [],
   "source": [
    "a = ('Наименование','Наименование','Наименование')\n",
    "NZ_UKPF.loc[NZ_UKPF[a]=='Норма упаковки, кг/чел*час',:]"
   ]
  },
  {
   "cell_type": "code",
   "execution_count": null,
   "id": "valuable-classic",
   "metadata": {},
   "outputs": [],
   "source": [
    "NZ_UKPF['Наименование']['Наименование']['Наименование']"
   ]
  },
  {
   "cell_type": "code",
   "execution_count": null,
   "id": "severe-vertex",
   "metadata": {},
   "outputs": [],
   "source": [
    "part_1_cons_2_per_product"
   ]
  },
  {
   "cell_type": "code",
   "execution_count": null,
   "id": "breathing-batch",
   "metadata": {},
   "outputs": [],
   "source": [
    "NZ_UKPF.columns"
   ]
  },
  {
   "cell_type": "code",
   "execution_count": null,
   "id": "handmade-corrections",
   "metadata": {},
   "outputs": [],
   "source": [
    "pd.MultiIndex.from_arrays([1,2,3],[1,2,3])"
   ]
  },
  {
   "cell_type": "code",
   "execution_count": null,
   "id": "injured-oliver",
   "metadata": {},
   "outputs": [],
   "source": []
  },
  {
   "cell_type": "code",
   "execution_count": null,
   "id": "valuable-pharmacy",
   "metadata": {},
   "outputs": [],
   "source": [
    "arr_ost.columns"
   ]
  },
  {
   "cell_type": "code",
   "execution_count": null,
   "id": "posted-miami",
   "metadata": {},
   "outputs": [],
   "source": [
    "arr_ost.columns"
   ]
  },
  {
   "cell_type": "code",
   "execution_count": null,
   "id": "senior-chair",
   "metadata": {},
   "outputs": [],
   "source": [
    "a = pd.DataFrame({'a':[1,2,3,5]})\n",
    "b = pd.DataFrame({'a':[1,2,3],'b':[6,7,8]})"
   ]
  },
  {
   "cell_type": "code",
   "execution_count": null,
   "id": "alike-secondary",
   "metadata": {},
   "outputs": [],
   "source": [
    "pd.concat([a.set_index('a'),b.set_index('a')],axis = 1)"
   ]
  },
  {
   "cell_type": "code",
   "execution_count": null,
   "id": "informal-patio",
   "metadata": {},
   "outputs": [],
   "source": [
    "a.index"
   ]
  },
  {
   "cell_type": "code",
   "execution_count": null,
   "id": "looking-massage",
   "metadata": {},
   "outputs": [],
   "source": [
    "len(set(list(arr_ost.index)))"
   ]
  },
  {
   "cell_type": "code",
   "execution_count": null,
   "id": "apart-drill",
   "metadata": {},
   "outputs": [],
   "source": [
    "a = curr_Production_output_UKPF.set_index('Артикул').index"
   ]
  },
  {
   "cell_type": "code",
   "execution_count": null,
   "id": "finite-workplace",
   "metadata": {},
   "outputs": [],
   "source": [
    "len(list(arr_ost.index))"
   ]
  },
  {
   "cell_type": "code",
   "execution_count": null,
   "id": "satisfied-fleece",
   "metadata": {},
   "outputs": [],
   "source": [
    "ost_start[start_date]"
   ]
  },
  {
   "cell_type": "code",
   "execution_count": null,
   "id": "respiratory-space",
   "metadata": {},
   "outputs": [],
   "source": [
    "arr_ost[~arr_ost.index.duplicated(keep='first')]"
   ]
  },
  {
   "cell_type": "code",
   "execution_count": null,
   "id": "stock-kitty",
   "metadata": {},
   "outputs": [],
   "source": [
    "\n"
   ]
  },
  {
   "cell_type": "code",
   "execution_count": null,
   "id": "bridal-experience",
   "metadata": {},
   "outputs": [],
   "source": []
  },
  {
   "cell_type": "code",
   "execution_count": null,
   "id": "cheap-account",
   "metadata": {},
   "outputs": [],
   "source": [
    "cons_ost_start.to_excel(directory+'ddd.xlsx')"
   ]
  },
  {
   "cell_type": "code",
   "execution_count": null,
   "id": "foster-trout",
   "metadata": {},
   "outputs": [],
   "source": [
    "cons_ost_start = pd.concat([ost_start[cols_join],arr_ost] ,axis = 1)"
   ]
  },
  {
   "cell_type": "code",
   "execution_count": null,
   "id": "outer-smell",
   "metadata": {},
   "outputs": [],
   "source": [
    "pd.read_excel(directory+'ddd.xlsx',header=[0,1],index_col=0)"
   ]
  },
  {
   "cell_type": "code",
   "execution_count": null,
   "id": "unsigned-architecture",
   "metadata": {},
   "outputs": [],
   "source": [
    "curr_Production_output_UKPF"
   ]
  },
  {
   "cell_type": "code",
   "execution_count": null,
   "id": "native-least",
   "metadata": {},
   "outputs": [],
   "source": []
  }
 ],
 "metadata": {
  "kernelspec": {
   "display_name": "Python 3",
   "language": "python",
   "name": "python3"
  },
  "language_info": {
   "codemirror_mode": {
    "name": "ipython",
    "version": 3
   },
   "file_extension": ".py",
   "mimetype": "text/x-python",
   "name": "python",
   "nbconvert_exporter": "python",
   "pygments_lexer": "ipython3",
   "version": "3.9.5"
  }
 },
 "nbformat": 4,
 "nbformat_minor": 5
}
